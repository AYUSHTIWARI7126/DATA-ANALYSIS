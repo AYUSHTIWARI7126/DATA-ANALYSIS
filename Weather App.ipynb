{
 "cells": [
  {
   "cell_type": "code",
   "execution_count": 3,
   "id": "5c13c4d8-c9e0-405f-b16e-57645d38759c",
   "metadata": {},
   "outputs": [],
   "source": [
    "import requests\n",
    "\n",
    "def get_weather(city):\n",
    "    API_KEY = '39c59cfa4594f30fdc53a3d8bee62972'\n",
    "    url = f\"https://api.openweathermap.org/data/2.5/weather?q={city}&appid={API_KEY}&units=metric\"\n",
    "\n",
    "    response = requests.get(url)\n",
    "    data = response.json()\n",
    "\n",
    "    if response.status_code == 200:\n",
    "        print(f\"📍 City: {data['name']}\")\n",
    "        print(f\"🌡️ Temperature: {data['main']['temp']}°C\")\n",
    "        print(f\"🌥️ Weather: {data['weather'][0]['description'].title()}\")\n",
    "        print(f\"💨 Wind Speed: {data['wind']['speed']} m/s\")\n",
    "        print(f\"🌡️ Humidity: {data['main']['humidity']}%\")\n",
    "    else:\n",
    "        print(f\"🔍 Raw API Response: {data}\")\n",
    "        print(\"❌ City not found or API error.\")\n",
    "        print(\"Status Code:\", response.status_code)\n"
   ]
  },
  {
   "cell_type": "code",
   "execution_count": 4,
   "id": "14e832e9-9cb5-4a45-8e8a-4a70ac906441",
   "metadata": {},
   "outputs": [
    {
     "name": "stdin",
     "output_type": "stream",
     "text": [
      "Enter city name:  Bhopal\n"
     ]
    },
    {
     "name": "stdout",
     "output_type": "stream",
     "text": [
      "📍 City: Bhopal\n",
      "🌡️ Temperature: 24.72°C\n",
      "🌥️ Weather: Overcast Clouds\n",
      "💨 Wind Speed: 5 m/s\n",
      "🌡️ Humidity: 93%\n"
     ]
    }
   ],
   "source": [
    "city = input(\"Enter city name: \")\n",
    "get_weather(city)\n"
   ]
  },
  {
   "cell_type": "code",
   "execution_count": null,
   "id": "928b6055-b47a-4a98-bb35-bccc372e1cc5",
   "metadata": {},
   "outputs": [],
   "source": []
  }
 ],
 "metadata": {
  "kernelspec": {
   "display_name": "Python 3 (ipykernel)",
   "language": "python",
   "name": "python3"
  },
  "language_info": {
   "codemirror_mode": {
    "name": "ipython",
    "version": 3
   },
   "file_extension": ".py",
   "mimetype": "text/x-python",
   "name": "python",
   "nbconvert_exporter": "python",
   "pygments_lexer": "ipython3",
   "version": "3.13.5"
  }
 },
 "nbformat": 4,
 "nbformat_minor": 5
}
